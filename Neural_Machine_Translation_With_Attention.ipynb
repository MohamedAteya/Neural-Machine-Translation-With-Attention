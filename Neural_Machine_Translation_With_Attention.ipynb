{
  "nbformat": 4,
  "nbformat_minor": 0,
  "metadata": {
    "colab": {
      "name": "Neural Machine Translation With Attention.ipynb",
      "provenance": [],
      "collapsed_sections": [],
      "authorship_tag": "ABX9TyNPdSXdCxaW1oxaCSNoA98i",
      "include_colab_link": true
    },
    "kernelspec": {
      "name": "python3",
      "display_name": "Python 3"
    },
    "accelerator": "GPU"
  },
  "cells": [
    {
      "cell_type": "markdown",
      "metadata": {
        "id": "view-in-github",
        "colab_type": "text"
      },
      "source": [
        "<a href=\"https://colab.research.google.com/github/MohamedAteya/Neural-Machine-Translation-With-Attention/blob/master/Neural_Machine_Translation_With_Attention.ipynb\" target=\"_parent\"><img src=\"https://colab.research.google.com/assets/colab-badge.svg\" alt=\"Open In Colab\"/></a>"
      ]
    },
    {
      "cell_type": "code",
      "metadata": {
        "id": "M3yD2SlEaqao"
      },
      "source": [
        "import tensorflow as tf\n",
        "import matplotlib.pyplot as plt\n",
        "import matplotlib.ticker as ticker\n",
        "from sklearn.model_selection import train_test_split\n",
        "import numpy as np\n",
        "import pandas as pd\n",
        "import re\n",
        "import unicodedata\n",
        "import io\n",
        "import os\n",
        "import time\n",
        "import gc\n",
        "from gensim.models import FastText\n",
        "import random"
      ],
      "execution_count": 69,
      "outputs": []
    },
    {
      "cell_type": "markdown",
      "metadata": {
        "id": "-KM5e_vkb05W"
      },
      "source": [
        "#Download and prepare the dataset"
      ]
    },
    {
      "cell_type": "code",
      "metadata": {
        "id": "PXm8JSVuat1o",
        "outputId": "04b0c479-211d-450a-a5b4-df14952462dd",
        "colab": {
          "base_uri": "https://localhost:8080/",
          "height": 301
        }
      },
      "source": [
        "!wget http://www.manythings.org/anki/fra-eng.zip\n",
        "!unzip 'fra-eng.zip'"
      ],
      "execution_count": 70,
      "outputs": [
        {
          "output_type": "stream",
          "text": [
            "--2020-09-27 10:36:19--  http://www.manythings.org/anki/fra-eng.zip\n",
            "Resolving www.manythings.org (www.manythings.org)... 104.24.108.196, 172.67.173.198, 104.24.109.196, ...\n",
            "Connecting to www.manythings.org (www.manythings.org)|104.24.108.196|:80... connected.\n",
            "HTTP request sent, awaiting response... 200 OK\n",
            "Length: 6073837 (5.8M) [application/zip]\n",
            "Saving to: ‘fra-eng.zip.1’\n",
            "\n",
            "fra-eng.zip.1       100%[===================>]   5.79M  15.4MB/s    in 0.4s    \n",
            "\n",
            "2020-09-27 10:36:20 (15.4 MB/s) - ‘fra-eng.zip.1’ saved [6073837/6073837]\n",
            "\n",
            "Archive:  fra-eng.zip\n",
            "replace _about.txt? [y]es, [n]o, [A]ll, [N]one, [r]ename: y\n",
            "  inflating: _about.txt              \n",
            "replace fra.txt? [y]es, [n]o, [A]ll, [N]one, [r]ename: y\n",
            "  inflating: fra.txt                 \n"
          ],
          "name": "stdout"
        }
      ]
    },
    {
      "cell_type": "markdown",
      "metadata": {
        "id": "tEd7_kwV7WrN"
      },
      "source": [
        "##load the data"
      ]
    },
    {
      "cell_type": "code",
      "metadata": {
        "id": "ZPxOyWNCbnKN"
      },
      "source": [
        "#load dataset\n",
        "def load_data(path):\n",
        "  input_file = os.path.join(path)\n",
        "  with open(input_file, 'r') as f:\n",
        "    data = f.read()\n",
        "  \n",
        "  return data.split('\\n')"
      ],
      "execution_count": 71,
      "outputs": []
    },
    {
      "cell_type": "code",
      "metadata": {
        "id": "mGLHXjzqcoY4"
      },
      "source": [
        "data = load_data('fra.txt')"
      ],
      "execution_count": 72,
      "outputs": []
    },
    {
      "cell_type": "code",
      "metadata": {
        "id": "if-2TmG4e_4y",
        "outputId": "37da9686-07c5-4fc8-9f88-6395604093f6",
        "colab": {
          "base_uri": "https://localhost:8080/",
          "height": 35
        }
      },
      "source": [
        "data[0]"
      ],
      "execution_count": 73,
      "outputs": [
        {
          "output_type": "execute_result",
          "data": {
            "application/vnd.google.colaboratory.intrinsic+json": {
              "type": "string"
            },
            "text/plain": [
              "'Go.\\tVa !\\tCC-BY 2.0 (France) Attribution: tatoeba.org #2877272 (CM) & #1158250 (Wittydev)'"
            ]
          },
          "metadata": {
            "tags": []
          },
          "execution_count": 73
        }
      ]
    },
    {
      "cell_type": "markdown",
      "metadata": {
        "id": "QNwu1ora7cPY"
      },
      "source": [
        "##Extract English and french sentences"
      ]
    },
    {
      "cell_type": "code",
      "metadata": {
        "id": "rVgh9eD6c2JL"
      },
      "source": [
        "#extract the sentences \n",
        "def get_langs(data):\n",
        "  eng, fra =[], []\n",
        "  for line in data:\n",
        "    sentences= line.split('\\t')\n",
        "\n",
        "    #there is some empety lines (0 elemnts lists)\n",
        "    if len(sentences) < 3:\n",
        "      continue\n",
        "    \n",
        "    e_sent, f_sent, _ = sentences \n",
        "\n",
        "    #append the sentences\n",
        "    eng.append(e_sent)\n",
        "    fra.append(f_sent) \n",
        "\n",
        "  return  eng, fra"
      ],
      "execution_count": 74,
      "outputs": []
    },
    {
      "cell_type": "code",
      "metadata": {
        "id": "RS7yfzz-dxtC"
      },
      "source": [
        "eng, fra= get_langs(data)"
      ],
      "execution_count": 75,
      "outputs": []
    },
    {
      "cell_type": "markdown",
      "metadata": {
        "id": "D_bu482k7li7"
      },
      "source": [
        "##Preprocessing the sentences"
      ]
    },
    {
      "cell_type": "code",
      "metadata": {
        "id": "No1C33bUd6Xa"
      },
      "source": [
        "def perprocess_sentence(sent):\n",
        "  sent = sent.lower()\n",
        "  sent = re.sub(r\"([?.!,¿])\", r\" \\1 \", sent) #creating a space between words and punctuations\n",
        "  sent = re.sub(r'[\" \"]+', \" \",sent )  #replace any many-spaces with one space\n",
        "  sent = re.sub(r\"[^a-zA-Z?.!,¿]+\", \" \", sent) #replace anything not in (a-zA-Z?.!,¿) with space\n",
        "  sent = sent.strip()\n",
        "  sent = '<start> ' + sent + ' <end>'\n",
        "\n",
        "  return sent"
      ],
      "execution_count": 76,
      "outputs": []
    },
    {
      "cell_type": "code",
      "metadata": {
        "id": "sLAIO8ZUfYC9"
      },
      "source": [
        "eng = [perprocess_sentence(sent) for sent in eng]\n",
        "fra = [perprocess_sentence(sent) for sent in fra]"
      ],
      "execution_count": 77,
      "outputs": []
    },
    {
      "cell_type": "code",
      "metadata": {
        "id": "pyvjrUyBf83v",
        "outputId": "3fae527a-e612-4f56-953c-474a490fa386",
        "colab": {
          "base_uri": "https://localhost:8080/",
          "height": 35
        }
      },
      "source": [
        "eng[0]"
      ],
      "execution_count": 78,
      "outputs": [
        {
          "output_type": "execute_result",
          "data": {
            "application/vnd.google.colaboratory.intrinsic+json": {
              "type": "string"
            },
            "text/plain": [
              "'<start> go . <end>'"
            ]
          },
          "metadata": {
            "tags": []
          },
          "execution_count": 78
        }
      ]
    },
    {
      "cell_type": "code",
      "metadata": {
        "id": "_WYY8qvm7KgA",
        "outputId": "32a7abc1-9862-4405-bafa-b50a5bfda3c4",
        "colab": {
          "base_uri": "https://localhost:8080/",
          "height": 35
        }
      },
      "source": [
        "fra[0]"
      ],
      "execution_count": 79,
      "outputs": [
        {
          "output_type": "execute_result",
          "data": {
            "application/vnd.google.colaboratory.intrinsic+json": {
              "type": "string"
            },
            "text/plain": [
              "'<start> va ! <end>'"
            ]
          },
          "metadata": {
            "tags": []
          },
          "execution_count": 79
        }
      ]
    },
    {
      "cell_type": "markdown",
      "metadata": {
        "id": "7P2BA4d37106"
      },
      "source": [
        "## Tokenization and paddding"
      ]
    },
    {
      "cell_type": "code",
      "metadata": {
        "id": "szVaGWhP7MuW"
      },
      "source": [
        "def tokenize_and_pad(data, padding_maxlen =None, padding= 'post'):\n",
        "\n",
        "  tokenizer = tf.keras.preprocessing.text.Tokenizer(filters='',lower =True, oov_token = '<OOV>')\n",
        "  tokenizer.fit_on_texts(data)\n",
        "\n",
        "  lang_tensor = tokenizer.texts_to_sequences(data)\n",
        "\n",
        "  lang_tensor = tf.keras.preprocessing.sequence.pad_sequences(lang_tensor, maxlen = padding_maxlen,padding = padding)\n",
        "\n",
        "  return tokenizer, lang_tensor"
      ],
      "execution_count": 80,
      "outputs": []
    },
    {
      "cell_type": "code",
      "metadata": {
        "id": "fpbC_TSk9nOy"
      },
      "source": [
        "eng_tokenizer, eng_tensor = tokenize_and_pad(eng)\n",
        "fra_tokenizer, fra_tensor = tokenize_and_pad(fra)"
      ],
      "execution_count": 81,
      "outputs": []
    },
    {
      "cell_type": "markdown",
      "metadata": {
        "id": "SMz4R6Oo-oMo"
      },
      "source": [
        "## Create train, validation, and test sets "
      ]
    },
    {
      "cell_type": "code",
      "metadata": {
        "id": "E3m1C87i-YBp"
      },
      "source": [
        "fra_train, fra_val, eng_train, eng_val = train_test_split(fra_tensor, eng_tensor,test_size = 0.2) "
      ],
      "execution_count": 82,
      "outputs": []
    },
    {
      "cell_type": "markdown",
      "metadata": {
        "id": "hIeM2r0UP8h3"
      },
      "source": [
        "## create the dataset "
      ]
    },
    {
      "cell_type": "code",
      "metadata": {
        "id": "P5n2oe6EBYmk"
      },
      "source": [
        "#train dataset\n",
        "BUFFER_SIZE = len(fra_train)\n",
        "BATCH_SIZE = 64\n",
        "dataset = tf.data.Dataset.from_tensor_slices((fra_train, eng_train)).shuffle(BUFFER_SIZE)\n",
        "dataset = dataset.batch(BATCH_SIZE, drop_remainder=True)"
      ],
      "execution_count": 83,
      "outputs": []
    },
    {
      "cell_type": "code",
      "metadata": {
        "id": "v-x36Y-wkn9O",
        "outputId": "5885448f-103a-45b9-bacc-70cd2ed86549",
        "colab": {
          "base_uri": "https://localhost:8080/",
          "height": 34
        }
      },
      "source": [
        "example_input_batch, example_target_batch = next(iter(dataset))\n",
        "example_input_batch.shape, example_target_batch.shape"
      ],
      "execution_count": 84,
      "outputs": [
        {
          "output_type": "execute_result",
          "data": {
            "text/plain": [
              "(TensorShape([64, 67]), TensorShape([64, 53]))"
            ]
          },
          "metadata": {
            "tags": []
          },
          "execution_count": 84
        }
      ]
    },
    {
      "cell_type": "code",
      "metadata": {
        "id": "KcnUuxGTxnY0"
      },
      "source": [
        "#validation dataset\n",
        "BUFFER_SIZE = len(fra_val)\n",
        "dataset_val = tf.data.Dataset.from_tensor_slices((fra_val, eng_val)).shuffle(BUFFER_SIZE)\n",
        "dataset_val = dataset_val.batch(BATCH_SIZE, drop_remainder=True)"
      ],
      "execution_count": 85,
      "outputs": []
    },
    {
      "cell_type": "code",
      "metadata": {
        "id": "EmKRFeOHxnJ8",
        "outputId": "eba938a8-6553-4ef7-f1eb-8a6027a04647",
        "colab": {
          "base_uri": "https://localhost:8080/",
          "height": 34
        }
      },
      "source": [
        "example_input_batch, example_target_batch = next(iter(dataset_val))\n",
        "example_input_batch.shape, example_target_batch.shape"
      ],
      "execution_count": 86,
      "outputs": [
        {
          "output_type": "execute_result",
          "data": {
            "text/plain": [
              "(TensorShape([64, 67]), TensorShape([64, 53]))"
            ]
          },
          "metadata": {
            "tags": []
          },
          "execution_count": 86
        }
      ]
    },
    {
      "cell_type": "markdown",
      "metadata": {
        "id": "s8FL_LTtq3rD"
      },
      "source": [
        "#Bulding the Seq2Seq with attention model"
      ]
    },
    {
      "cell_type": "markdown",
      "metadata": {
        "id": "QRE0_zHjr19c"
      },
      "source": [
        "## Load pre-trained French word embeddings"
      ]
    },
    {
      "cell_type": "code",
      "metadata": {
        "id": "nOr3avNvCB5p",
        "outputId": "4a58f68e-3382-4ca7-88a9-c24487bdd97b",
        "colab": {
          "base_uri": "https://localhost:8080/",
          "height": 212
        }
      },
      "source": [
        "#download the fasttext frech word vectors\n",
        "\n",
        "!wget https://dl.fbaipublicfiles.com/fasttext/vectors-crawl/cc.fr.300.bin.gz\n",
        "!gunzip 'cc.fr.300.bin.gz'"
      ],
      "execution_count": 25,
      "outputs": [
        {
          "output_type": "stream",
          "text": [
            "--2020-09-27 09:57:08--  https://dl.fbaipublicfiles.com/fasttext/vectors-crawl/cc.fr.300.bin.gz\n",
            "Resolving dl.fbaipublicfiles.com (dl.fbaipublicfiles.com)... 104.22.75.142, 104.22.74.142, 172.67.9.4, ...\n",
            "Connecting to dl.fbaipublicfiles.com (dl.fbaipublicfiles.com)|104.22.75.142|:443... connected.\n",
            "HTTP request sent, awaiting response... 200 OK\n",
            "Length: 4496886212 (4.2G) [application/octet-stream]\n",
            "Saving to: ‘cc.fr.300.bin.gz’\n",
            "\n",
            "cc.fr.300.bin.gz    100%[===================>]   4.19G  21.4MB/s    in 3m 21s  \n",
            "\n",
            "2020-09-27 10:00:30 (21.3 MB/s) - ‘cc.fr.300.bin.gz’ saved [4496886212/4496886212]\n",
            "\n"
          ],
          "name": "stdout"
        }
      ]
    },
    {
      "cell_type": "code",
      "metadata": {
        "id": "j3Smog8ZCCaZ"
      },
      "source": [
        "mod = FastText.load_fasttext_format('cc.fr.300.bin')"
      ],
      "execution_count": 87,
      "outputs": []
    },
    {
      "cell_type": "code",
      "metadata": {
        "id": "nEpZ-4qgCB8e"
      },
      "source": [
        "frech_vocab = fra_tokenizer.word_index\n",
        "embedding_dim =300\n",
        "fra_num_tokens = len(frech_vocab)+1\n",
        "hits, misses =0, 0\n",
        "french_embedding_matrix = np.zeros((fra_num_tokens, embedding_dim))\n",
        "for word, i in frech_vocab.items():\n",
        "    embedding_vector = mod.wv[word]\n",
        "    if embedding_vector is not None:\n",
        "        # Words not found in embedding index will be all-zeros.\n",
        "        french_embedding_matrix[i] = embedding_vector\n",
        "        hits += 1\n",
        "    else:\n",
        "        misses += 1"
      ],
      "execution_count": 88,
      "outputs": []
    },
    {
      "cell_type": "code",
      "metadata": {
        "id": "QVhggQiM5WsP",
        "outputId": "88d1cd28-c429-4e78-d1b6-b09b5a266408",
        "colab": {
          "base_uri": "https://localhost:8080/",
          "height": 34
        }
      },
      "source": [
        "#release some memory \n",
        "del mod  \n",
        "gc.collect()"
      ],
      "execution_count": 89,
      "outputs": [
        {
          "output_type": "execute_result",
          "data": {
            "text/plain": [
              "208"
            ]
          },
          "metadata": {
            "tags": []
          },
          "execution_count": 89
        }
      ]
    },
    {
      "cell_type": "markdown",
      "metadata": {
        "id": "hKG4NzVoHDAQ"
      },
      "source": [
        "## Load pre-trained English word embeddings (GLOVE)"
      ]
    },
    {
      "cell_type": "code",
      "metadata": {
        "id": "Lw_vv8BnJ87C",
        "outputId": "1ae7a18e-9112-4a51-e083-6d7d6907e989",
        "colab": {
          "base_uri": "https://localhost:8080/",
          "height": 390
        }
      },
      "source": [
        "!wget http://nlp.stanford.edu/data/glove.6B.zip\n",
        "!unzip -q glove.6B.zip"
      ],
      "execution_count": 90,
      "outputs": [
        {
          "output_type": "stream",
          "text": [
            "--2020-09-27 10:41:07--  http://nlp.stanford.edu/data/glove.6B.zip\n",
            "Resolving nlp.stanford.edu (nlp.stanford.edu)... 171.64.67.140\n",
            "Connecting to nlp.stanford.edu (nlp.stanford.edu)|171.64.67.140|:80... connected.\n",
            "HTTP request sent, awaiting response... 302 Found\n",
            "Location: https://nlp.stanford.edu/data/glove.6B.zip [following]\n",
            "--2020-09-27 10:41:07--  https://nlp.stanford.edu/data/glove.6B.zip\n",
            "Connecting to nlp.stanford.edu (nlp.stanford.edu)|171.64.67.140|:443... connected.\n",
            "HTTP request sent, awaiting response... 301 Moved Permanently\n",
            "Location: http://downloads.cs.stanford.edu/nlp/data/glove.6B.zip [following]\n",
            "--2020-09-27 10:41:08--  http://downloads.cs.stanford.edu/nlp/data/glove.6B.zip\n",
            "Resolving downloads.cs.stanford.edu (downloads.cs.stanford.edu)... 171.64.64.22\n",
            "Connecting to downloads.cs.stanford.edu (downloads.cs.stanford.edu)|171.64.64.22|:80... connected.\n",
            "HTTP request sent, awaiting response... 200 OK\n",
            "Length: 862182613 (822M) [application/zip]\n",
            "Saving to: ‘glove.6B.zip.1’\n",
            "\n",
            "glove.6B.zip.1       38%[======>             ] 317.91M  1.91MB/s    eta 3m 39s ^C\n",
            "replace glove.6B.50d.txt? [y]es, [n]o, [A]ll, [N]one, [r]ename: n\n",
            "replace glove.6B.100d.txt? [y]es, [n]o, [A]ll, [N]one, [r]ename: n\n",
            "replace glove.6B.200d.txt? [y]es, [n]o, [A]ll, [N]one, [r]ename: n\n",
            "replace glove.6B.300d.txt? [y]es, [n]o, [A]ll, [N]one, [r]ename: n\n"
          ],
          "name": "stdout"
        }
      ]
    },
    {
      "cell_type": "code",
      "metadata": {
        "id": "lhvzLAKdGhga",
        "outputId": "81f80d74-5409-471d-83a6-644f475fe7b1",
        "colab": {
          "base_uri": "https://localhost:8080/",
          "height": 34
        }
      },
      "source": [
        "\n",
        "path_to_glove_file = 'glove.6B.300d.txt'\n",
        "\n",
        "embeddings_index = {}\n",
        "with open(path_to_glove_file) as f:\n",
        "    for line in f:\n",
        "        word, coefs = line.split(maxsplit=1)\n",
        "        coefs = np.fromstring(coefs, \"f\", sep=\" \")\n",
        "        embeddings_index[word] = coefs\n",
        "\n",
        "print(\"Found %s word vectors.\" % len(embeddings_index))"
      ],
      "execution_count": 91,
      "outputs": [
        {
          "output_type": "stream",
          "text": [
            "Found 400000 word vectors.\n"
          ],
          "name": "stdout"
        }
      ]
    },
    {
      "cell_type": "code",
      "metadata": {
        "id": "YHSbIvHLIOwn",
        "outputId": "8b994509-4d96-4ea0-e5f5-74afc223c9c6",
        "colab": {
          "base_uri": "https://localhost:8080/",
          "height": 34
        }
      },
      "source": [
        "english_vocab = eng_tokenizer.word_index\n",
        "embedding_dim =300\n",
        "eng_num_tokens = len(english_vocab)+1\n",
        "hits, misses =0, 0\n",
        "english_embedding_matrix = np.zeros((eng_num_tokens, embedding_dim))\n",
        "for word, i in english_vocab.items():\n",
        "    embedding_vector = embeddings_index.get(word)\n",
        "    if embedding_vector is not None:\n",
        "        # Words not found in embedding index will be all-zeros.\n",
        "        english_embedding_matrix[i] = embedding_vector\n",
        "        hits += 1\n",
        "    else:\n",
        "        misses += 1\n",
        "\n",
        "misses"
      ],
      "execution_count": 92,
      "outputs": [
        {
          "output_type": "execute_result",
          "data": {
            "text/plain": [
              "49"
            ]
          },
          "metadata": {
            "tags": []
          },
          "execution_count": 92
        }
      ]
    },
    {
      "cell_type": "markdown",
      "metadata": {
        "id": "-Bm0LnJX_G32"
      },
      "source": [
        "## Encoder Class"
      ]
    },
    {
      "cell_type": "code",
      "metadata": {
        "id": "hgAdvp9ElFVm"
      },
      "source": [
        "#Encoder\n",
        "class Encoder(tf.keras.Model):\n",
        "  def __init__(self, vocab_size, embedding_dim, enc_units, batch_size, embedding_matrix):\n",
        "    super(Encoder, self).__init__()\n",
        "    self.batch_size = batch_size\n",
        "    self.enc_units = enc_units\n",
        "    self.Embedding = tf.keras.layers.Embedding(vocab_size , embedding_dim,\n",
        "                                               embeddings_initializer=tf.keras.initializers.Constant(embedding_matrix),\n",
        "                                               trainable=False)\n",
        "    self.Bi_lstm = tf.keras.layers.Bidirectional(tf.keras.layers.LSTM(self.enc_units,\n",
        "                                   return_sequences=True,\n",
        "                                   recurrent_initializer='glorot_uniform'))\n",
        "    \n",
        "    self.lstm = tf.keras.layers.LSTM(self.enc_units,\n",
        "                                   return_sequences=True,\n",
        "                                   return_state=True,\n",
        "                                   recurrent_initializer='glorot_uniform')\n",
        "    \n",
        "  def call(self, x):\n",
        "    x = self.Embedding(x)\n",
        "    x = self.Bi_lstm(x)\n",
        "    output, memory,state= self.lstm(x)\n",
        "    return  output , state\n",
        "\n",
        "  def initialize_hidden_state(self):\n",
        "    return tf.zeros((self.batch_size, self.enc_units))"
      ],
      "execution_count": 32,
      "outputs": []
    },
    {
      "cell_type": "markdown",
      "metadata": {
        "id": "nxsLnVWJ_NEm"
      },
      "source": [
        "## Bahdanau Attention Class (Additive)"
      ]
    },
    {
      "cell_type": "code",
      "metadata": {
        "id": "ujkpYmg7n2tC"
      },
      "source": [
        "# BahdanauAttention\n",
        "class BahdanauAttention(tf.keras.layers.Layer):\n",
        "  def __init__(self,units):\n",
        "    super(BahdanauAttention, self).__init__()\n",
        "    self.units = units\n",
        "    self.W1 = tf.keras.layers.Dense(units)\n",
        "    self.W2 = tf.keras.layers.Dense(units)\n",
        "    self.V = tf.keras.layers.Dense(1)\n",
        "  \n",
        "  def call(self, decoder_state , encoder_output):\n",
        "    #decoder state shape (batch_size, units) . We need it at the shape of (batch_size, 1, units) for the score computaion \n",
        "    #encoder output sahpe (batch_size , seq_len, units) #seq_len is the time steps\n",
        "    decoder_state = tf.expand_dims(decoder_state, axis = 1)\n",
        "    score = self.V(tf.nn.tanh(self.W1(decoder_state)+ self.W2(encoder_output))) # score shape= (batch_size, max_length, 1)\n",
        "\n",
        "    attention_weights = tf.nn.softmax(score, axis=1) ## attention_weights shape == (batch_size, max_length, 1)\n",
        "\n",
        "    context_vector = tf.reduce_sum((attention_weights * encoder_output) , axis = 1) # context_vector shape = (batch_size, hidden_size)\n",
        "\n",
        "    return context_vector , attention_weights\n",
        "\n",
        "\n",
        "    "
      ],
      "execution_count": 33,
      "outputs": []
    },
    {
      "cell_type": "markdown",
      "metadata": {
        "id": "Iv7iVDdF_bDM"
      },
      "source": [
        "## Decoder Class"
      ]
    },
    {
      "cell_type": "code",
      "metadata": {
        "id": "9jERjQ6QrJq_"
      },
      "source": [
        "#Decoder \n",
        "class Decoder(tf.keras.Model):\n",
        "  def __init__(self, vocab_size, embedding_dim, dec_units, batch_size,embedding_matrix):\n",
        "    super(Decoder, self).__init__()\n",
        "    self.batch_size = batch_size\n",
        "    self.dec_units = dec_units \n",
        "    self.Embedding = tf.keras.layers.Embedding(vocab_size,embedding_dim,\n",
        "                                               embeddings_initializer=tf.keras.initializers.Constant(embedding_matrix),\n",
        "                                               trainable=False)\n",
        "    self.lstm = tf.keras.layers.LSTM(dec_units,\n",
        "                                     recurrent_initializer ='glorot_uniform',\n",
        "                                     dropout=0.2,\n",
        "                                     return_sequences= True ,\n",
        "                                     return_state= True)\n",
        "    \n",
        "    self.fc = tf.keras.layers.Dense(vocab_size)\n",
        "    self.attention = BahdanauAttention(dec_units)\n",
        "\n",
        "  def call (self, x, hidden , enc_output):\n",
        "\n",
        "    context_vector, attention_weights = self.attention(decoder_state = hidden, encoder_output = enc_output)\n",
        "\n",
        "    x = self.Embedding(x) # x shape = (bach_size, 1 , embedding_dim)\n",
        "\n",
        "    x = tf.concat([tf.expand_dims(context_vector, axis = 1), x], axis = -1) # x shape = (batch_size, 1, embedding + hidden units)\n",
        "\n",
        "    output, memory,state = self.lstm(x)\n",
        "\n",
        "    output = tf.reshape(output, (-1, output.shape[2])) # output sahpe = (batch_size , hidden units)\n",
        "\n",
        "    x = self.fc(output)\n",
        "\n",
        "    return x, state, attention_weights\n",
        "\n"
      ],
      "execution_count": 34,
      "outputs": []
    },
    {
      "cell_type": "markdown",
      "metadata": {
        "id": "13fCe6MDAc_a"
      },
      "source": [
        "## Optimizer and loss"
      ]
    },
    {
      "cell_type": "code",
      "metadata": {
        "id": "6UBPjRk6slsH"
      },
      "source": [
        "optimizer = tf.keras.optimizers.Adam()\n",
        "loss_object = tf.keras.losses.SparseCategoricalCrossentropy(\n",
        "    from_logits=True, reduction='none')\n",
        "\n",
        "def loss_function(real, pred):\n",
        "  mask = tf.math.logical_not(tf.math.equal(real, 0))\n",
        "  loss_ = loss_object(real, pred)\n",
        "\n",
        "  mask = tf.cast(mask, dtype=loss_.dtype)\n",
        "  loss_ *= mask\n",
        "\n",
        "  return tf.reduce_mean(loss_)"
      ],
      "execution_count": 35,
      "outputs": []
    },
    {
      "cell_type": "markdown",
      "metadata": {
        "id": "bIUgvBhOAyfl"
      },
      "source": [
        "# Training"
      ]
    },
    {
      "cell_type": "code",
      "metadata": {
        "id": "6x6lAsJhDa-H"
      },
      "source": [
        "#encoder and decoder objects\n",
        "vocab_in_size = fra_num_tokens\n",
        "vocab_out_size = eng_num_tokens\n",
        "units = 1024\n",
        "steps_per_epoch_train = len(fra_train)//BATCH_SIZE\n",
        "steps_per_epoch_val = len(fra_val) // BATCH_SIZE\n",
        "\n",
        "\n",
        "encoder = Encoder(vocab_in_size, embedding_dim, units, BATCH_SIZE,french_embedding_matrix)\n",
        "decoder = Decoder(vocab_out_size, embedding_dim, units, BATCH_SIZE,english_embedding_matrix)"
      ],
      "execution_count": 93,
      "outputs": []
    },
    {
      "cell_type": "code",
      "metadata": {
        "id": "f25_KuLZBsd8",
        "outputId": "13936b75-e20a-46cb-d7de-eff1e7b4e2d5",
        "colab": {
          "base_uri": "https://localhost:8080/",
          "height": 34
        }
      },
      "source": [
        "from google.colab import drive\n",
        "drive.mount('/content/drive')"
      ],
      "execution_count": 37,
      "outputs": [
        {
          "output_type": "stream",
          "text": [
            "Mounted at /content/drive\n"
          ],
          "name": "stdout"
        }
      ]
    },
    {
      "cell_type": "code",
      "metadata": {
        "id": "jW0F6FSQAnkw"
      },
      "source": [
        "#create checkpoints\n",
        "checkpoint_dir = '/content/drive/My Drive/Colab Notebooks/Machine Translation'\n",
        "checkpoint_prefix = os.path.join(checkpoint_dir, \"ckpt\")\n",
        "checkpoint = tf.train.Checkpoint(optimizer=optimizer,\n",
        "                                 encoder=encoder,\n",
        "                                 decoder=decoder)"
      ],
      "execution_count": 94,
      "outputs": []
    },
    {
      "cell_type": "markdown",
      "metadata": {
        "id": "lVC-IkEIvQQY"
      },
      "source": [
        "## training step"
      ]
    },
    {
      "cell_type": "code",
      "metadata": {
        "id": "SKCeI7qPAnuo"
      },
      "source": [
        "@tf.function\n",
        "def train_step(inp, targ):\n",
        "  loss = 0\n",
        "\n",
        "  with tf.GradientTape() as tape:\n",
        "    enc_output, enc_hidden = encoder(inp)\n",
        "\n",
        "    dec_hidden = enc_hidden\n",
        "\n",
        "    dec_input = tf.expand_dims([eng_tokenizer.word_index['<start>']] * BATCH_SIZE, 1)\n",
        "\n",
        "    # Teacher forcing - feeding the target as the next input\n",
        "    for t in range(1, targ.shape[1]):\n",
        "      # passing enc_output to the decoder\n",
        "      predictions, dec_hidden, _ = decoder(dec_input, dec_hidden, enc_output)\n",
        "\n",
        "      loss += loss_function(targ[:, t], predictions)\n",
        "\n",
        "      # using teacher forcing\n",
        "      dec_input = tf.expand_dims(targ[:, t], 1)\n",
        "\n",
        "  batch_loss = (loss / int(targ.shape[1]))\n",
        "\n",
        "  variables = encoder.trainable_variables + decoder.trainable_variables\n",
        "\n",
        "  gradients = tape.gradient(loss, variables)\n",
        "\n",
        "  optimizer.apply_gradients(zip(gradients, variables))\n",
        "\n",
        "  return batch_loss"
      ],
      "execution_count": 30,
      "outputs": []
    },
    {
      "cell_type": "markdown",
      "metadata": {
        "id": "iiJnqAPrvjO9"
      },
      "source": [
        "## train "
      ]
    },
    {
      "cell_type": "code",
      "metadata": {
        "id": "TrRAeAKJAnsO",
        "outputId": "dcf8164c-ad37-4bfd-d322-0bc1575d8da6",
        "colab": {
          "base_uri": "https://localhost:8080/",
          "height": 1000
        }
      },
      "source": [
        "EPOCHS = 10\n",
        "loss =[]\n",
        "for epoch in range(EPOCHS):\n",
        "  start = time.time()\n",
        "\n",
        "  enc_hidden = encoder.initialize_hidden_state()\n",
        "  total_loss = 0\n",
        "\n",
        "  #train set\n",
        "  for (batch, (inp, targ)) in enumerate(dataset.take(steps_per_epoch_train)):\n",
        "    batch_loss = train_step(inp, targ)\n",
        "    total_loss += batch_loss\n",
        "\n",
        "    if batch % 100 == 0:\n",
        "      print('Epoch {} Batch {} Loss {:.4f}'.format(epoch + 1,\n",
        "                                                   batch,\n",
        "                                                   batch_loss.numpy()))\n",
        "  # saving (checkpoint) the model every 2 epochs\n",
        "  if (epoch + 1) % 2 == 0:\n",
        "    checkpoint.save(file_prefix = checkpoint_prefix)\n",
        "\n",
        "  print('Epoch {} Loss {:.4f}'.format(epoch + 1,\n",
        "                                      total_loss / steps_per_epoch_train))\n",
        "  print('Time taken for 1 epoch {} sec\\n'.format(time.time() - start))\n",
        "\n",
        "\n"
      ],
      "execution_count": 31,
      "outputs": [
        {
          "output_type": "stream",
          "text": [
            "Epoch 1 Batch 0 Loss 1.5499\n",
            "Epoch 1 Batch 100 Loss 0.7771\n",
            "Epoch 1 Batch 200 Loss 0.7606\n",
            "Epoch 1 Batch 300 Loss 0.6326\n",
            "Epoch 1 Batch 400 Loss 0.6950\n",
            "Epoch 1 Batch 500 Loss 0.6186\n",
            "Epoch 1 Batch 600 Loss 0.6331\n",
            "Epoch 1 Batch 700 Loss 0.6027\n",
            "Epoch 1 Batch 800 Loss 0.6229\n",
            "Epoch 1 Batch 900 Loss 0.5732\n",
            "Epoch 1 Batch 1000 Loss 0.5842\n",
            "Epoch 1 Batch 1100 Loss 0.5576\n",
            "Epoch 1 Batch 1200 Loss 0.5411\n",
            "Epoch 1 Batch 1300 Loss 0.5331\n",
            "Epoch 1 Batch 1400 Loss 0.4985\n",
            "Epoch 1 Batch 1500 Loss 0.5144\n",
            "Epoch 1 Batch 1600 Loss 0.5469\n",
            "Epoch 1 Batch 1700 Loss 0.4730\n",
            "Epoch 1 Batch 1800 Loss 0.5006\n",
            "Epoch 1 Batch 1900 Loss 0.4432\n",
            "Epoch 1 Batch 2000 Loss 0.5531\n",
            "Epoch 1 Batch 2100 Loss 0.5228\n",
            "Epoch 1 Batch 2200 Loss 0.5116\n",
            "Epoch 1 Loss 0.5881\n",
            "Time taken for 1 epoch 2195.451734304428 sec\n",
            "\n",
            "Epoch 2 Batch 0 Loss 0.4871\n",
            "Epoch 2 Batch 100 Loss 0.4794\n",
            "Epoch 2 Batch 200 Loss 0.4355\n",
            "Epoch 2 Batch 300 Loss 0.4492\n",
            "Epoch 2 Batch 400 Loss 0.4781\n",
            "Epoch 2 Batch 500 Loss 0.4997\n",
            "Epoch 2 Batch 600 Loss 0.4198\n",
            "Epoch 2 Batch 700 Loss 0.4679\n",
            "Epoch 2 Batch 800 Loss 0.3966\n",
            "Epoch 2 Batch 900 Loss 0.3591\n",
            "Epoch 2 Batch 1000 Loss 0.4178\n",
            "Epoch 2 Batch 1100 Loss 0.4560\n",
            "Epoch 2 Batch 1200 Loss 0.3826\n",
            "Epoch 2 Batch 1300 Loss 0.4031\n",
            "Epoch 2 Batch 1400 Loss 0.4229\n",
            "Epoch 2 Batch 1500 Loss 0.3273\n",
            "Epoch 2 Batch 1600 Loss 0.4072\n",
            "Epoch 2 Batch 1700 Loss 0.3780\n",
            "Epoch 2 Batch 1800 Loss 0.3473\n",
            "Epoch 2 Batch 1900 Loss 0.4139\n",
            "Epoch 2 Batch 2000 Loss 0.2902\n",
            "Epoch 2 Batch 2100 Loss 0.3433\n",
            "Epoch 2 Batch 2200 Loss 0.3362\n",
            "Epoch 2 Loss 0.3952\n",
            "Time taken for 1 epoch 2126.557102203369 sec\n",
            "\n",
            "Epoch 3 Batch 0 Loss 0.2694\n",
            "Epoch 3 Batch 100 Loss 0.3265\n",
            "Epoch 3 Batch 200 Loss 0.3252\n",
            "Epoch 3 Batch 300 Loss 0.2867\n",
            "Epoch 3 Batch 400 Loss 0.3277\n",
            "Epoch 3 Batch 500 Loss 0.2613\n",
            "Epoch 3 Batch 600 Loss 0.2668\n",
            "Epoch 3 Batch 700 Loss 0.2860\n",
            "Epoch 3 Batch 800 Loss 0.2915\n",
            "Epoch 3 Batch 900 Loss 0.2991\n",
            "Epoch 3 Batch 1000 Loss 0.2400\n",
            "Epoch 3 Batch 1100 Loss 0.2457\n",
            "Epoch 3 Batch 1200 Loss 0.2447\n",
            "Epoch 3 Batch 1300 Loss 0.2596\n",
            "Epoch 3 Batch 1400 Loss 0.2191\n",
            "Epoch 3 Batch 1500 Loss 0.2000\n",
            "Epoch 3 Batch 1600 Loss 0.2299\n",
            "Epoch 3 Batch 1700 Loss 0.2503\n",
            "Epoch 3 Batch 1800 Loss 0.2735\n",
            "Epoch 3 Batch 1900 Loss 0.2258\n",
            "Epoch 3 Batch 2000 Loss 0.2744\n",
            "Epoch 3 Batch 2100 Loss 0.2185\n",
            "Epoch 3 Batch 2200 Loss 0.2112\n",
            "Epoch 3 Loss 0.2609\n",
            "Time taken for 1 epoch 2123.939674139023 sec\n",
            "\n",
            "Epoch 4 Batch 0 Loss 0.1793\n",
            "Epoch 4 Batch 100 Loss 0.1803\n",
            "Epoch 4 Batch 200 Loss 0.1743\n",
            "Epoch 4 Batch 300 Loss 0.2060\n",
            "Epoch 4 Batch 400 Loss 0.2073\n",
            "Epoch 4 Batch 500 Loss 0.2226\n",
            "Epoch 4 Batch 600 Loss 0.1634\n",
            "Epoch 4 Batch 700 Loss 0.1906\n",
            "Epoch 4 Batch 800 Loss 0.1671\n",
            "Epoch 4 Batch 900 Loss 0.1665\n",
            "Epoch 4 Batch 1000 Loss 0.1930\n",
            "Epoch 4 Batch 1100 Loss 0.1952\n",
            "Epoch 4 Batch 1200 Loss 0.1502\n",
            "Epoch 4 Batch 1300 Loss 0.1625\n",
            "Epoch 4 Batch 1400 Loss 0.1918\n",
            "Epoch 4 Batch 1500 Loss 0.1766\n",
            "Epoch 4 Batch 1600 Loss 0.1816\n",
            "Epoch 4 Batch 1700 Loss 0.1751\n",
            "Epoch 4 Batch 1800 Loss 0.1726\n",
            "Epoch 4 Batch 1900 Loss 0.1442\n",
            "Epoch 4 Batch 2000 Loss 0.1325\n",
            "Epoch 4 Batch 2100 Loss 0.1483\n",
            "Epoch 4 Batch 2200 Loss 0.1459\n",
            "Epoch 4 Loss 0.1780\n",
            "Time taken for 1 epoch 2124.3096537590027 sec\n",
            "\n",
            "Epoch 5 Batch 0 Loss 0.1223\n",
            "Epoch 5 Batch 100 Loss 0.1109\n",
            "Epoch 5 Batch 200 Loss 0.1588\n",
            "Epoch 5 Batch 300 Loss 0.1554\n",
            "Epoch 5 Batch 400 Loss 0.1389\n",
            "Epoch 5 Batch 500 Loss 0.1232\n",
            "Epoch 5 Batch 600 Loss 0.1590\n",
            "Epoch 5 Batch 700 Loss 0.1424\n",
            "Epoch 5 Batch 800 Loss 0.1291\n",
            "Epoch 5 Batch 900 Loss 0.1126\n",
            "Epoch 5 Batch 1000 Loss 0.1637\n",
            "Epoch 5 Batch 1100 Loss 0.1071\n",
            "Epoch 5 Batch 1200 Loss 0.1271\n",
            "Epoch 5 Batch 1300 Loss 0.1706\n",
            "Epoch 5 Batch 1400 Loss 0.1070\n",
            "Epoch 5 Batch 1500 Loss 0.1434\n",
            "Epoch 5 Batch 1600 Loss 0.1497\n",
            "Epoch 5 Batch 1700 Loss 0.1161\n",
            "Epoch 5 Batch 1800 Loss 0.0967\n",
            "Epoch 5 Batch 1900 Loss 0.1269\n",
            "Epoch 5 Batch 2000 Loss 0.1587\n",
            "Epoch 5 Batch 2100 Loss 0.1370\n",
            "Epoch 5 Batch 2200 Loss 0.1166\n",
            "Epoch 5 Loss 0.1308\n",
            "Time taken for 1 epoch 2120.635375738144 sec\n",
            "\n",
            "Epoch 6 Batch 0 Loss 0.0985\n",
            "Epoch 6 Batch 100 Loss 0.1006\n",
            "Epoch 6 Batch 200 Loss 0.1262\n",
            "Epoch 6 Batch 300 Loss 0.0921\n",
            "Epoch 6 Batch 400 Loss 0.0863\n",
            "Epoch 6 Batch 500 Loss 0.0835\n",
            "Epoch 6 Batch 600 Loss 0.0929\n",
            "Epoch 6 Batch 700 Loss 0.1028\n",
            "Epoch 6 Batch 800 Loss 0.1327\n",
            "Epoch 6 Batch 900 Loss 0.1242\n",
            "Epoch 6 Batch 1000 Loss 0.1274\n",
            "Epoch 6 Batch 1100 Loss 0.0827\n",
            "Epoch 6 Batch 1200 Loss 0.0931\n",
            "Epoch 6 Batch 1300 Loss 0.1242\n",
            "Epoch 6 Batch 1400 Loss 0.0893\n",
            "Epoch 6 Batch 1500 Loss 0.1156\n",
            "Epoch 6 Batch 1600 Loss 0.0892\n",
            "Epoch 6 Batch 1700 Loss 0.1207\n",
            "Epoch 6 Batch 1800 Loss 0.0876\n",
            "Epoch 6 Batch 1900 Loss 0.1120\n",
            "Epoch 6 Batch 2000 Loss 0.1381\n",
            "Epoch 6 Batch 2100 Loss 0.1067\n",
            "Epoch 6 Batch 2200 Loss 0.0755\n",
            "Epoch 6 Loss 0.0976\n",
            "Time taken for 1 epoch 2124.0819935798645 sec\n",
            "\n",
            "Epoch 7 Batch 0 Loss 0.0589\n",
            "Epoch 7 Batch 100 Loss 0.0664\n",
            "Epoch 7 Batch 200 Loss 0.0888\n",
            "Epoch 7 Batch 300 Loss 0.0604\n",
            "Epoch 7 Batch 400 Loss 0.0828\n",
            "Epoch 7 Batch 500 Loss 0.0449\n",
            "Epoch 7 Batch 600 Loss 0.0637\n",
            "Epoch 7 Batch 700 Loss 0.0805\n",
            "Epoch 7 Batch 800 Loss 0.0742\n",
            "Epoch 7 Batch 900 Loss 0.0806\n",
            "Epoch 7 Batch 1000 Loss 0.0698\n",
            "Epoch 7 Batch 1100 Loss 0.0841\n",
            "Epoch 7 Batch 1200 Loss 0.0824\n",
            "Epoch 7 Batch 1300 Loss 0.0472\n",
            "Epoch 7 Batch 1400 Loss 0.0872\n",
            "Epoch 7 Batch 1500 Loss 0.0625\n",
            "Epoch 7 Batch 1600 Loss 0.0680\n",
            "Epoch 7 Batch 1700 Loss 0.0718\n",
            "Epoch 7 Batch 1800 Loss 0.0850\n",
            "Epoch 7 Batch 1900 Loss 0.0956\n",
            "Epoch 7 Batch 2000 Loss 0.0671\n",
            "Epoch 7 Batch 2100 Loss 0.0860\n",
            "Epoch 7 Batch 2200 Loss 0.1178\n",
            "Epoch 7 Loss 0.0729\n",
            "Time taken for 1 epoch 2127.4142208099365 sec\n",
            "\n",
            "Epoch 8 Batch 0 Loss 0.0474\n",
            "Epoch 8 Batch 100 Loss 0.0333\n",
            "Epoch 8 Batch 200 Loss 0.0416\n",
            "Epoch 8 Batch 300 Loss 0.0469\n",
            "Epoch 8 Batch 400 Loss 0.0398\n",
            "Epoch 8 Batch 500 Loss 0.0278\n",
            "Epoch 8 Batch 600 Loss 0.0392\n",
            "Epoch 8 Batch 700 Loss 0.0415\n",
            "Epoch 8 Batch 800 Loss 0.0621\n",
            "Epoch 8 Batch 900 Loss 0.0413\n",
            "Epoch 8 Batch 1000 Loss 0.0438\n",
            "Epoch 8 Batch 1100 Loss 0.0774\n",
            "Epoch 8 Batch 1200 Loss 0.0583\n",
            "Epoch 8 Batch 1300 Loss 0.0715\n",
            "Epoch 8 Batch 1400 Loss 0.0694\n",
            "Epoch 8 Batch 1500 Loss 0.0658\n",
            "Epoch 8 Batch 1600 Loss 0.0441\n",
            "Epoch 8 Batch 1700 Loss 0.0780\n",
            "Epoch 8 Batch 1800 Loss 0.0441\n",
            "Epoch 8 Batch 1900 Loss 0.0631\n",
            "Epoch 8 Batch 2000 Loss 0.0664\n",
            "Epoch 8 Batch 2100 Loss 0.0560\n",
            "Epoch 8 Batch 2200 Loss 0.0551\n",
            "Epoch 8 Loss 0.0562\n",
            "Time taken for 1 epoch 2130.3316531181335 sec\n",
            "\n",
            "Epoch 9 Batch 0 Loss 0.0295\n",
            "Epoch 9 Batch 100 Loss 0.0444\n",
            "Epoch 9 Batch 200 Loss 0.0239\n",
            "Epoch 9 Batch 300 Loss 0.0460\n",
            "Epoch 9 Batch 400 Loss 0.0475\n",
            "Epoch 9 Batch 500 Loss 0.0295\n",
            "Epoch 9 Batch 600 Loss 0.0288\n",
            "Epoch 9 Batch 700 Loss 0.0368\n",
            "Epoch 9 Batch 800 Loss 0.0402\n",
            "Epoch 9 Batch 900 Loss 0.0466\n",
            "Epoch 9 Batch 1000 Loss 0.0425\n",
            "Epoch 9 Batch 1100 Loss 0.0395\n",
            "Epoch 9 Batch 1200 Loss 0.0363\n",
            "Epoch 9 Batch 1300 Loss 0.0413\n",
            "Epoch 9 Batch 1400 Loss 0.0371\n",
            "Epoch 9 Batch 1500 Loss 0.0481\n",
            "Epoch 9 Batch 1600 Loss 0.0505\n",
            "Epoch 9 Batch 1700 Loss 0.0491\n",
            "Epoch 9 Batch 1800 Loss 0.0398\n",
            "Epoch 9 Batch 1900 Loss 0.0443\n",
            "Epoch 9 Batch 2000 Loss 0.0429\n",
            "Epoch 9 Batch 2100 Loss 0.0379\n",
            "Epoch 9 Batch 2200 Loss 0.0650\n",
            "Epoch 9 Loss 0.0438\n",
            "Time taken for 1 epoch 2125.39076423645 sec\n",
            "\n",
            "Epoch 10 Batch 0 Loss 0.0158\n",
            "Epoch 10 Batch 100 Loss 0.0233\n",
            "Epoch 10 Batch 200 Loss 0.0227\n",
            "Epoch 10 Batch 300 Loss 0.0249\n",
            "Epoch 10 Batch 400 Loss 0.0301\n",
            "Epoch 10 Batch 500 Loss 0.0240\n",
            "Epoch 10 Batch 600 Loss 0.0279\n",
            "Epoch 10 Batch 700 Loss 0.0358\n",
            "Epoch 10 Batch 800 Loss 0.0178\n",
            "Epoch 10 Batch 900 Loss 0.0431\n",
            "Epoch 10 Batch 1000 Loss 0.0335\n",
            "Epoch 10 Batch 1100 Loss 0.0258\n",
            "Epoch 10 Batch 1200 Loss 0.0425\n",
            "Epoch 10 Batch 1300 Loss 0.0287\n",
            "Epoch 10 Batch 1400 Loss 0.0380\n",
            "Epoch 10 Batch 1500 Loss 0.0310\n",
            "Epoch 10 Batch 1600 Loss 0.0381\n",
            "Epoch 10 Batch 1700 Loss 0.0511\n",
            "Epoch 10 Batch 1800 Loss 0.0461\n",
            "Epoch 10 Batch 1900 Loss 0.0369\n",
            "Epoch 10 Batch 2000 Loss 0.0340\n",
            "Epoch 10 Batch 2100 Loss 0.0462\n",
            "Epoch 10 Batch 2200 Loss 0.0400\n",
            "Epoch 10 Loss 0.0325\n",
            "Time taken for 1 epoch 2123.984462738037 sec\n",
            "\n"
          ],
          "name": "stdout"
        }
      ]
    },
    {
      "cell_type": "markdown",
      "metadata": {
        "id": "gzXQo1B_OvBG"
      },
      "source": [
        "## Load the model parameters"
      ]
    },
    {
      "cell_type": "code",
      "metadata": {
        "id": "JB1141zG4zZG",
        "outputId": "ce54d736-505e-4f1e-9888-0379552a0df0",
        "colab": {
          "base_uri": "https://localhost:8080/",
          "height": 34
        }
      },
      "source": [
        "checkpoint.restore(tf.train.latest_checkpoint(checkpoint_dir))"
      ],
      "execution_count": 95,
      "outputs": [
        {
          "output_type": "execute_result",
          "data": {
            "text/plain": [
              "<tensorflow.python.training.tracking.util.CheckpointLoadStatus at 0x7f4e30a5ecc0>"
            ]
          },
          "metadata": {
            "tags": []
          },
          "execution_count": 95
        }
      ]
    },
    {
      "cell_type": "markdown",
      "metadata": {
        "id": "TzwuSRcoO7R8"
      },
      "source": [
        "#Translate"
      ]
    },
    {
      "cell_type": "code",
      "metadata": {
        "id": "W_FaMz8JAnpj"
      },
      "source": [
        "max_length_targ =  example_target_batch.shape[-1]\n",
        "max_length_inp = example_input_batch.shape[-1]\n",
        "\n",
        "def evaluate(sentence):\n",
        "  attention_plot = np.zeros((max_length_targ, max_length_inp))\n",
        "\n",
        "  sentence = perprocess_sentence(sentence)\n",
        "\n",
        "  #inputs = [fra_tokenizer.word_index[i] for i in sentence.split()]\n",
        "  inputs = fra_tokenizer.texts_to_sequences([sentence])\n",
        "  inputs = tf.squeeze(inputs)\n",
        "  inputs = tf.keras.preprocessing.sequence.pad_sequences([inputs],\n",
        "                                                         maxlen=max_length_inp,\n",
        "                                                         padding='post')\n",
        "  inputs = tf.convert_to_tensor(inputs)\n",
        "\n",
        "  result = '<start> '\n",
        "\n",
        "  enc_out, enc_hidden = encoder(inputs)\n",
        "\n",
        "  dec_hidden = enc_hidden\n",
        "  dec_input = tf.expand_dims([eng_tokenizer.word_index['<start>']], 0)\n",
        "\n",
        "  for t in range(max_length_targ):\n",
        "    predictions, dec_hidden, attention_weights = decoder(dec_input,\n",
        "                                                         dec_hidden,\n",
        "                                                         enc_out)\n",
        "\n",
        "    # storing the attention weights to plot later on\n",
        "    attention_weights = tf.reshape(attention_weights, (-1, ))\n",
        "    attention_plot[t] = attention_weights.numpy()\n",
        "\n",
        "    predicted_id = tf.argmax(predictions[0]).numpy()\n",
        "\n",
        "    result += eng_tokenizer.index_word[predicted_id] + ' '\n",
        "\n",
        "    if eng_tokenizer.index_word[predicted_id] == '<end>':\n",
        "      return result, sentence, attention_plot\n",
        "\n",
        "    # the predicted ID is fed back into the model\n",
        "    dec_input = tf.expand_dims([predicted_id], 0)\n",
        "\n",
        "  return result, sentence, attention_plot"
      ],
      "execution_count": 138,
      "outputs": []
    },
    {
      "cell_type": "code",
      "metadata": {
        "id": "8pCxGirVAnRH"
      },
      "source": [
        "# function for plotting the attention weights\n",
        "def plot_attention(attention, sentence, predicted_sentence):\n",
        "    fig = plt.figure(figsize=(10,10))\n",
        "    ax = fig.add_subplot(1, 1, 1)\n",
        "    \n",
        "    heatmap = ax.matshow(attention, cmap='rainbow')\n",
        "\n",
        "    for y in range(attention.shape[0]):\n",
        "        for x in range(attention.shape[1]):\n",
        "            ax.text(x , y, '%.4f' % attention[y, x],\n",
        "                     horizontalalignment='center',\n",
        "                     verticalalignment='center', color='black')\n",
        "\n",
        "    fig.colorbar(heatmap)\n",
        "\n",
        "    fontdict = {'fontsize': 14}\n",
        "    \n",
        "    ax.set_xticklabels([''] + sentence, fontdict=fontdict)\n",
        "    ax.set_yticklabels([''] + predicted_sentence, fontdict=fontdict)\n",
        "\n",
        "    plt.show()"
      ],
      "execution_count": 139,
      "outputs": []
    },
    {
      "cell_type": "code",
      "metadata": {
        "id": "F9VuqBEWyvEU"
      },
      "source": [
        "def translate(sentence):\n",
        "  result, sentence, attention_plot = evaluate(sentence)\n",
        "\n",
        "  print('Input: %s' % (sentence))\n",
        "  print('Predicted translation: {}'.format(result))\n",
        "\n",
        "  attention_plot = attention_plot[:len(result.split(' ')), :len(sentence.split(' '))]\n",
        "  plot_attention(attention_plot, sentence.split(' '), result.split(' '))"
      ],
      "execution_count": 140,
      "outputs": []
    },
    {
      "cell_type": "code",
      "metadata": {
        "id": "29ac2g50yvSn",
        "outputId": "4f5326b4-a245-42da-d863-2903a9531eb4",
        "colab": {
          "base_uri": "https://localhost:8080/",
          "height": 615
        }
      },
      "source": [
        "translate(u'Est-ce que vous travaillez?')"
      ],
      "execution_count": 141,
      "outputs": [
        {
          "output_type": "stream",
          "text": [
            "Input: <start> est ce que vous travaillez ? <end>\n",
            "Predicted translation: <start> do you work ? <end> \n"
          ],
          "name": "stdout"
        },
        {
          "output_type": "display_data",
          "data": {
            "image/png": "[encoded data removed]",
            "text/plain": [
              "<Figure size 720x720 with 2 Axes>"
            ]
          },
          "metadata": {
            "tags": [],
            "needs_background": "light"
          }
        }
      ]
    },
    {
      "cell_type": "code",
      "metadata": {
        "id": "G-CqmMeWIKrO",
        "outputId": "6e7a1eed-4243-45a5-821c-a1d1937488f3",
        "colab": {
          "base_uri": "https://localhost:8080/",
          "height": 620
        }
      },
      "source": [
        "translate(u'Je peux vraiment traduire.')"
      ],
      "execution_count": 142,
      "outputs": [
        {
          "output_type": "stream",
          "text": [
            "Input: <start> je peux vraiment traduire . <end>\n",
            "Predicted translation: <start> i can really understand . <end> \n"
          ],
          "name": "stdout"
        },
        {
          "output_type": "display_data",
          "data": {
            "image/png": "[encoded data removed]",
            "text/plain": [
              "<Figure size 720x720 with 2 Axes>"
            ]
          },
          "metadata": {
            "tags": [],
            "needs_background": "light"
          }
        }
      ]
    },
    {
      "cell_type": "code",
      "metadata": {
        "id": "Ar2thUHqLxCM",
        "outputId": "620e4f49-9bdc-45cb-8b2f-08dccf32b82b",
        "colab": {
          "base_uri": "https://localhost:8080/",
          "height": 636
        }
      },
      "source": [
        "translate(u'Comment vas-tu?')"
      ],
      "execution_count": 145,
      "outputs": [
        {
          "output_type": "stream",
          "text": [
            "Input: <start> comment vas tu ? <end>\n",
            "Predicted translation: <start> how are you doing ? <end> \n"
          ],
          "name": "stdout"
        },
        {
          "output_type": "display_data",
          "data": {
            "image/png": "[encoded data removed]",
            "text/plain": [
              "<Figure size 720x720 with 2 Axes>"
            ]
          },
          "metadata": {
            "tags": [],
            "needs_background": "light"
          }
        }
      ]
    },
    {
      "cell_type": "code",
      "metadata": {
        "id": "VMFA3DjJPXZ4"
      },
      "source": [
        ""
      ],
      "execution_count": null,
      "outputs": []
    }
  ]
}